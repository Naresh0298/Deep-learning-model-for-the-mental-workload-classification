{
 "cells": [
  {
   "cell_type": "code",
   "execution_count": null,
   "id": "85cd340e",
   "metadata": {},
   "outputs": [],
   "source": []
  },
  {
   "cell_type": "code",
   "execution_count": 14,
   "id": "1e21795c",
   "metadata": {
    "scrolled": true
   },
   "outputs": [
    {
     "name": "stdout",
     "output_type": "stream",
     "text": [
      "length is 5\n",
      "dict_keys(['__header__', '__version__', '__globals__', 'data', 'label'])\n",
      "[]\n",
      "(62, 512, 360)\n",
      "(1, 360)\n"
     ]
    }
   ],
   "source": [
    "import scipy.io as io\n",
    "from sklearn.model_selection import train_test_split\n",
    "from keras.models import Sequential\n",
    "from keras.layers import Dense, Dropout, Conv1D, MaxPool2D, Flatten\n",
    "from keras.utils import np_utils\n",
    "from keras.losses import BinaryCrossentropy\n",
    "import tensorflow as tf\n",
    "\n",
    "data = io.loadmat(\"WLDataCW.mat\")\n",
    "print('length is ' + str(len(data)))\n",
    "print(data.keys())\n",
    "print(data['__globals__'])\n",
    "data_only =  data[\"data\"]\n",
    "label = data[\"label\"]\n",
    "print(data_only.shape)\n",
    "print(label.shape)\n",
    "data_only=data_only.T\n",
    "label=label.T\n",
    "#sklearn.model_selection.train_test_split(*arrays, test_size=None, train_size=None, random_state=None, shuffle=True, stratify=None)\n",
    "X_train, X_test, y_train, y_test = train_test_split(data_only, label, test_size=0.25, random_state=42)\n",
    "\n"
   ]
  },
  {
   "cell_type": "code",
   "execution_count": 15,
   "id": "ef2fa54f",
   "metadata": {},
   "outputs": [],
   "source": [
    "cnn = tf.keras.models.Sequential()\n"
   ]
  },
  {
   "cell_type": "code",
   "execution_count": 16,
   "id": "924cab8d",
   "metadata": {},
   "outputs": [],
   "source": [
    "cnn.add(tf.keras.layers.Conv2D(filters = 32,\n",
    "                              kernel_size = 3,\n",
    "                              activation = 'relu',\n",
    "                              input_shape=[512, 62,1]) )"
   ]
  },
  {
   "cell_type": "code",
   "execution_count": 17,
   "id": "eab46d45",
   "metadata": {},
   "outputs": [],
   "source": [
    "cnn.add(tf.keras.layers.MaxPool2D(pool_size=2, strides=2))"
   ]
  },
  {
   "cell_type": "code",
   "execution_count": 18,
   "id": "45bcf825",
   "metadata": {},
   "outputs": [],
   "source": [
    "cnn.add(tf.keras.layers.Conv2D(filters = 32,\n",
    "                              kernel_size = 3,\n",
    "                              activation = 'relu'))"
   ]
  },
  {
   "cell_type": "code",
   "execution_count": 19,
   "id": "a4c35b0f",
   "metadata": {},
   "outputs": [],
   "source": [
    "cnn.add(tf.keras.layers.Flatten())\n",
    "cnn.add(tf.keras.layers.Dense(units = 100, activation = 'relu'))\n",
    "cnn.add(tf.keras.layers.Dense(units=1, activation='softmax'))"
   ]
  },
  {
   "cell_type": "code",
   "execution_count": 20,
   "id": "d5dd106f",
   "metadata": {},
   "outputs": [],
   "source": [
    "cnn.compile(optimizer = 'adam', loss = 'binary_crossentropy', metrics=['accuracy'])"
   ]
  },
  {
   "cell_type": "code",
   "execution_count": 21,
   "id": "42e94b1e",
   "metadata": {},
   "outputs": [
    {
     "name": "stdout",
     "output_type": "stream",
     "text": [
      "Epoch 1/20\n",
      "11/11 [==============================] - 6s 487ms/step - loss: 45.7128 - accuracy: 0.5037 - val_loss: 0.7676 - val_accuracy: 0.4889\n",
      "Epoch 2/20\n",
      "11/11 [==============================] - 5s 474ms/step - loss: 1.1576 - accuracy: 0.5037 - val_loss: 0.4468 - val_accuracy: 0.4889\n",
      "Epoch 3/20\n",
      "11/11 [==============================] - 5s 479ms/step - loss: 0.3824 - accuracy: 0.5037 - val_loss: 0.4169 - val_accuracy: 0.4889\n",
      "Epoch 4/20\n",
      "11/11 [==============================] - 5s 483ms/step - loss: 0.2072 - accuracy: 0.5037 - val_loss: 0.3872 - val_accuracy: 0.4889\n",
      "Epoch 5/20\n",
      "11/11 [==============================] - 6s 514ms/step - loss: 0.0740 - accuracy: 0.5037 - val_loss: 0.4119 - val_accuracy: 0.4889\n",
      "Epoch 6/20\n",
      "11/11 [==============================] - 6s 505ms/step - loss: 0.0269 - accuracy: 0.5037 - val_loss: 0.4346 - val_accuracy: 0.4889\n",
      "Epoch 7/20\n",
      "11/11 [==============================] - 6s 494ms/step - loss: 0.0156 - accuracy: 0.5037 - val_loss: 0.4107 - val_accuracy: 0.4889\n",
      "Epoch 8/20\n",
      "11/11 [==============================] - 5s 484ms/step - loss: 0.0024 - accuracy: 0.5037 - val_loss: 0.5337 - val_accuracy: 0.4889\n",
      "Epoch 9/20\n",
      "11/11 [==============================] - 5s 497ms/step - loss: 5.7587e-04 - accuracy: 0.5037 - val_loss: 0.5767 - val_accuracy: 0.4889\n",
      "Epoch 10/20\n",
      "11/11 [==============================] - 5s 494ms/step - loss: 1.2436e-04 - accuracy: 0.5037 - val_loss: 0.5778 - val_accuracy: 0.4889\n",
      "Epoch 11/20\n",
      "11/11 [==============================] - 5s 483ms/step - loss: 6.7402e-05 - accuracy: 0.5037 - val_loss: 0.5888 - val_accuracy: 0.4889\n",
      "Epoch 12/20\n",
      "11/11 [==============================] - 5s 474ms/step - loss: 4.5278e-05 - accuracy: 0.5037 - val_loss: 0.6033 - val_accuracy: 0.4889\n",
      "Epoch 13/20\n",
      "11/11 [==============================] - 6s 533ms/step - loss: 3.4542e-05 - accuracy: 0.5037 - val_loss: 0.6183 - val_accuracy: 0.4889\n",
      "Epoch 14/20\n",
      "11/11 [==============================] - 5s 482ms/step - loss: 2.9029e-05 - accuracy: 0.5037 - val_loss: 0.6269 - val_accuracy: 0.4889\n",
      "Epoch 15/20\n",
      "11/11 [==============================] - 6s 547ms/step - loss: 2.4214e-05 - accuracy: 0.5037 - val_loss: 0.6339 - val_accuracy: 0.4889\n",
      "Epoch 16/20\n",
      "11/11 [==============================] - 5s 496ms/step - loss: 2.1274e-05 - accuracy: 0.5037 - val_loss: 0.6404 - val_accuracy: 0.4889\n",
      "Epoch 17/20\n",
      "11/11 [==============================] - 6s 554ms/step - loss: 1.8919e-05 - accuracy: 0.5037 - val_loss: 0.6444 - val_accuracy: 0.4889\n",
      "Epoch 18/20\n",
      "11/11 [==============================] - 6s 528ms/step - loss: 1.7097e-05 - accuracy: 0.5037 - val_loss: 0.6476 - val_accuracy: 0.4889\n",
      "Epoch 19/20\n",
      "11/11 [==============================] - 5s 482ms/step - loss: 1.5193e-05 - accuracy: 0.5037 - val_loss: 0.6516 - val_accuracy: 0.4889\n",
      "Epoch 20/20\n",
      "11/11 [==============================] - 6s 526ms/step - loss: 1.3867e-05 - accuracy: 0.5037 - val_loss: 0.6537 - val_accuracy: 0.4889\n"
     ]
    }
   ],
   "source": [
    "\n",
    "history = cnn.fit(X_train, y_train,\n",
    "                batch_size=25,\n",
    "                epochs=20,\n",
    "                validation_data=(X_test, y_test))\n"
   ]
  },
  {
   "cell_type": "code",
   "execution_count": 23,
   "id": "02400e5b",
   "metadata": {},
   "outputs": [
    {
     "name": "stdout",
     "output_type": "stream",
     "text": [
      "Model: \"sequential_3\"\n",
      "_________________________________________________________________\n",
      " Layer (type)                Output Shape              Param #   \n",
      "=================================================================\n",
      " conv2d_2 (Conv2D)           (None, 510, 60, 32)       320       \n",
      "                                                                 \n",
      " max_pooling2d_1 (MaxPooling  (None, 255, 30, 32)      0         \n",
      " 2D)                                                             \n",
      "                                                                 \n",
      " conv2d_3 (Conv2D)           (None, 253, 28, 32)       9248      \n",
      "                                                                 \n",
      " flatten_2 (Flatten)         (None, 226688)            0         \n",
      "                                                                 \n",
      " dense_4 (Dense)             (None, 100)               22668900  \n",
      "                                                                 \n",
      " dense_5 (Dense)             (None, 1)                 101       \n",
      "                                                                 \n",
      "=================================================================\n",
      "Total params: 22,678,569\n",
      "Trainable params: 22,678,569\n",
      "Non-trainable params: 0\n",
      "_________________________________________________________________\n"
     ]
    }
   ],
   "source": [
    "cnn.summary()"
   ]
  },
  {
   "cell_type": "code",
   "execution_count": 26,
   "id": "9d53d488",
   "metadata": {},
   "outputs": [
    {
     "name": "stdout",
     "output_type": "stream",
     "text": [
      "3/3 - 0s - loss: 0.6537 - accuracy: 0.4889 - 331ms/epoch - 110ms/step\n"
     ]
    },
    {
     "data": {
      "image/png": "[encoded data removed]",
      "text/plain": [
       "<Figure size 640x480 with 1 Axes>"
      ]
     },
     "metadata": {},
     "output_type": "display_data"
    }
   ],
   "source": [
    "import matplotlib.pyplot as plt\n",
    "plt.plot(history.history['accuracy'], label='accuracy')\n",
    "plt.plot(history.history['val_accuracy'], label = 'val_accuracy')\n",
    "plt.xlabel('Epoch')\n",
    "plt.ylabel('Accuracy')\n",
    "plt.ylim([0.5, 1])\n",
    "plt.legend(loc='lower right')\n",
    "\n",
    "test_loss, test_acc = cnn.evaluate(X_test,  y_test, verbose=2)"
   ]
  },
  {
   "cell_type": "code",
   "execution_count": 27,
   "id": "6e420851",
   "metadata": {},
   "outputs": [
    {
     "name": "stdout",
     "output_type": "stream",
     "text": [
      "0.4888888895511627\n"
     ]
    }
   ],
   "source": [
    "print(test_acc)"
   ]
  }
 ],
 "metadata": {
  "kernelspec": {
   "display_name": "Python 3 (ipykernel)",
   "language": "python",
   "name": "python3"
  },
  "language_info": {
   "codemirror_mode": {
    "name": "ipython",
    "version": 3
   },
   "file_extension": ".py",
   "mimetype": "text/x-python",
   "name": "python",
   "nbconvert_exporter": "python",
   "pygments_lexer": "ipython3",
   "version": "3.10.6"
  }
 },
 "nbformat": 4,
 "nbformat_minor": 5
}
