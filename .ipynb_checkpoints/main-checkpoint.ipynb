{
 "cells": [
  {
   "cell_type": "code",
   "execution_count": 13,
   "id": "1e21795c",
   "metadata": {
    "scrolled": true
   },
   "outputs": [
    {
     "name": "stdout",
     "output_type": "stream",
     "text": [
      "length is 5\n",
      "dict_keys(['__header__', '__version__', '__globals__', 'data', 'label'])\n",
      "[]\n",
      "(62, 512, 360)\n",
      "(1, 360)\n"
     ]
    }
   ],
   "source": [
    "import scipy.io as io\n",
    "from sklearn.model_selection import train_test_split\n",
    "from keras.models import Sequential\n",
    "from keras.layers import Dense, Dropout, Conv1D, MaxPool2D, Flatten\n",
    "from keras.utils import np_utils\n",
    "from keras.losses import BinaryCrossentropy\n",
    "import tensorflow as tf\n",
    "\n",
    "data = io.loadmat(\"WLDataCW.mat\")\n",
    "print('length is ' + str(len(data)))\n",
    "print(data.keys())\n",
    "print(data['__globals__'])\n",
    "data_only =  data[\"data\"]\n",
    "label = data[\"label\"]\n",
    "print(data_only.shape)\n",
    "print(label.shape)\n",
    "data_only=data_only.T\n",
    "label=label.T\n",
    "X_train, X_test, y_train, y_test = train_test_split(data_only, label, test_size=0.25, random_state=42)\n",
    "\n"
   ]
  },
  {
   "cell_type": "code",
   "execution_count": 14,
   "id": "ef2fa54f",
   "metadata": {},
   "outputs": [],
   "source": [
    "cnn = tf.keras.models.Sequential()\n",
    "\n"
   ]
  },
  {
   "cell_type": "code",
   "execution_count": 15,
   "id": "9d69083f",
   "metadata": {},
   "outputs": [],
   "source": [
    "\n",
    "cnn.add(tf.keras.layers.Conv2D(32, (3, 3), activation='relu', input_shape=(512, 62, 1)))\n",
    "cnn.add(tf.keras.layers.MaxPooling2D((2, 2)))"
   ]
  },
  {
   "cell_type": "code",
   "execution_count": 16,
   "id": "5dc4d083",
   "metadata": {},
   "outputs": [],
   "source": [
    "cnn.add(tf.keras.layers.Conv2D(64, (3, 3), activation='relu'))\n",
    "cnn.add(tf.keras.layers.MaxPooling2D((2, 2)))"
   ]
  },
  {
   "cell_type": "code",
   "execution_count": 17,
   "id": "52f9c27a",
   "metadata": {},
   "outputs": [],
   "source": [
    "cnn.add(tf.keras.layers.Conv2D(64, (3, 3), activation='relu'))\n",
    "cnn.add(tf.keras.layers.MaxPooling2D((2, 2)))"
   ]
  },
  {
   "cell_type": "code",
   "execution_count": 18,
   "id": "a30ee330",
   "metadata": {},
   "outputs": [],
   "source": [
    "cnn.add(tf.keras.layers.Conv2D(50, (3, 3), activation='relu'))"
   ]
  },
  {
   "cell_type": "code",
   "execution_count": 19,
   "id": "f7833c18",
   "metadata": {},
   "outputs": [],
   "source": [
    "cnn.add(tf.keras.layers.Flatten())"
   ]
  },
  {
   "cell_type": "code",
   "execution_count": 20,
   "id": "33a8dc21",
   "metadata": {},
   "outputs": [],
   "source": [
    "cnn.add(tf.keras.layers.Dense(units = 100, activation = 'relu'))\n",
    "cnn.add(tf.keras.layers.Dense(units=1, activation='sigmoid'))"
   ]
  },
  {
   "cell_type": "code",
   "execution_count": 21,
   "id": "952075e1",
   "metadata": {},
   "outputs": [],
   "source": [
    "\n",
    "cnn.compile(optimizer = 'adam', loss = 'binary_crossentropy', metrics=['accuracy'])\n"
   ]
  },
  {
   "cell_type": "code",
   "execution_count": 22,
   "id": "806d2032",
   "metadata": {},
   "outputs": [
    {
     "name": "stdout",
     "output_type": "stream",
     "text": [
      "Epoch 1/50\n",
      "11/11 [==============================] - 5s 411ms/step - loss: 2.4508 - accuracy: 0.5444 - val_loss: 0.6118 - val_accuracy: 0.7667\n",
      "Epoch 2/50\n",
      "11/11 [==============================] - 4s 397ms/step - loss: 0.6542 - accuracy: 0.6185 - val_loss: 0.5354 - val_accuracy: 0.8000\n",
      "Epoch 3/50\n",
      "11/11 [==============================] - 4s 400ms/step - loss: 0.5146 - accuracy: 0.8074 - val_loss: 0.4467 - val_accuracy: 0.8444\n",
      "Epoch 4/50\n",
      "11/11 [==============================] - 4s 395ms/step - loss: 0.4327 - accuracy: 0.8444 - val_loss: 0.3168 - val_accuracy: 0.9222\n",
      "Epoch 5/50\n",
      "11/11 [==============================] - 4s 395ms/step - loss: 0.3121 - accuracy: 0.9148 - val_loss: 0.2022 - val_accuracy: 0.9222\n",
      "Epoch 6/50\n",
      "11/11 [==============================] - 4s 394ms/step - loss: 0.2149 - accuracy: 0.9370 - val_loss: 0.2152 - val_accuracy: 0.9222\n",
      "Epoch 7/50\n",
      "11/11 [==============================] - 4s 396ms/step - loss: 0.1573 - accuracy: 0.9667 - val_loss: 0.1469 - val_accuracy: 0.9667\n",
      "Epoch 8/50\n",
      "11/11 [==============================] - 4s 395ms/step - loss: 0.1611 - accuracy: 0.9630 - val_loss: 0.1572 - val_accuracy: 0.9667\n",
      "Epoch 9/50\n",
      "11/11 [==============================] - 4s 395ms/step - loss: 0.1547 - accuracy: 0.9370 - val_loss: 0.1521 - val_accuracy: 0.9667\n",
      "Epoch 10/50\n",
      "11/11 [==============================] - 4s 396ms/step - loss: 0.1190 - accuracy: 0.9556 - val_loss: 0.2750 - val_accuracy: 0.9333\n",
      "Epoch 11/50\n",
      "11/11 [==============================] - 4s 396ms/step - loss: 0.1078 - accuracy: 0.9704 - val_loss: 0.1789 - val_accuracy: 0.9444\n",
      "Epoch 12/50\n",
      "11/11 [==============================] - 4s 396ms/step - loss: 0.0603 - accuracy: 0.9926 - val_loss: 0.3710 - val_accuracy: 0.9333\n",
      "Epoch 13/50\n",
      "11/11 [==============================] - 4s 395ms/step - loss: 0.1201 - accuracy: 0.9741 - val_loss: 0.1525 - val_accuracy: 0.9444\n",
      "Epoch 14/50\n",
      "11/11 [==============================] - 4s 406ms/step - loss: 0.0977 - accuracy: 0.9741 - val_loss: 0.3410 - val_accuracy: 0.9000\n",
      "Epoch 15/50\n",
      "11/11 [==============================] - 4s 404ms/step - loss: 0.0758 - accuracy: 0.9778 - val_loss: 0.1508 - val_accuracy: 0.9444\n",
      "Epoch 16/50\n",
      "11/11 [==============================] - 4s 399ms/step - loss: 0.0237 - accuracy: 0.9926 - val_loss: 0.1507 - val_accuracy: 0.9333\n",
      "Epoch 17/50\n",
      "11/11 [==============================] - 4s 399ms/step - loss: 0.0423 - accuracy: 0.9852 - val_loss: 0.2917 - val_accuracy: 0.9111\n",
      "Epoch 18/50\n",
      "11/11 [==============================] - 4s 400ms/step - loss: 0.0199 - accuracy: 1.0000 - val_loss: 0.1113 - val_accuracy: 0.9556\n",
      "Epoch 19/50\n",
      "11/11 [==============================] - 4s 400ms/step - loss: 0.0043 - accuracy: 1.0000 - val_loss: 0.1596 - val_accuracy: 0.9444\n",
      "Epoch 20/50\n",
      "11/11 [==============================] - 5s 419ms/step - loss: 0.0031 - accuracy: 1.0000 - val_loss: 0.3969 - val_accuracy: 0.9444\n",
      "Epoch 21/50\n",
      "11/11 [==============================] - 5s 413ms/step - loss: 0.0029 - accuracy: 1.0000 - val_loss: 0.1089 - val_accuracy: 0.9556\n",
      "Epoch 22/50\n",
      "11/11 [==============================] - 4s 403ms/step - loss: 0.0024 - accuracy: 1.0000 - val_loss: 0.1271 - val_accuracy: 0.9667\n",
      "Epoch 23/50\n",
      "11/11 [==============================] - 4s 403ms/step - loss: 0.0013 - accuracy: 1.0000 - val_loss: 0.2052 - val_accuracy: 0.9333\n",
      "Epoch 24/50\n",
      "11/11 [==============================] - 4s 402ms/step - loss: 6.6886e-04 - accuracy: 1.0000 - val_loss: 0.1489 - val_accuracy: 0.9556\n",
      "Epoch 25/50\n",
      "11/11 [==============================] - 4s 399ms/step - loss: 5.1099e-04 - accuracy: 1.0000 - val_loss: 0.1531 - val_accuracy: 0.9556\n",
      "Epoch 26/50\n",
      "11/11 [==============================] - 4s 398ms/step - loss: 4.5980e-04 - accuracy: 1.0000 - val_loss: 0.1620 - val_accuracy: 0.9444\n",
      "Epoch 27/50\n",
      "11/11 [==============================] - 4s 399ms/step - loss: 3.7925e-04 - accuracy: 1.0000 - val_loss: 0.1935 - val_accuracy: 0.9444\n",
      "Epoch 28/50\n",
      "11/11 [==============================] - 4s 400ms/step - loss: 3.5603e-04 - accuracy: 1.0000 - val_loss: 0.1930 - val_accuracy: 0.9444\n",
      "Epoch 29/50\n",
      "11/11 [==============================] - 4s 400ms/step - loss: 3.2978e-04 - accuracy: 1.0000 - val_loss: 0.1736 - val_accuracy: 0.9444\n",
      "Epoch 30/50\n",
      "11/11 [==============================] - 4s 401ms/step - loss: 3.1683e-04 - accuracy: 1.0000 - val_loss: 0.1918 - val_accuracy: 0.9444\n",
      "Epoch 31/50\n",
      "11/11 [==============================] - 4s 400ms/step - loss: 2.7842e-04 - accuracy: 1.0000 - val_loss: 0.1934 - val_accuracy: 0.9444\n",
      "Epoch 32/50\n",
      "11/11 [==============================] - 4s 399ms/step - loss: 2.6098e-04 - accuracy: 1.0000 - val_loss: 0.1957 - val_accuracy: 0.9444\n",
      "Epoch 33/50\n",
      "11/11 [==============================] - 4s 400ms/step - loss: 2.5337e-04 - accuracy: 1.0000 - val_loss: 0.1856 - val_accuracy: 0.9444\n",
      "Epoch 34/50\n",
      "11/11 [==============================] - 4s 396ms/step - loss: 2.4223e-04 - accuracy: 1.0000 - val_loss: 0.2075 - val_accuracy: 0.9444\n",
      "Epoch 35/50\n",
      "11/11 [==============================] - 4s 398ms/step - loss: 2.2162e-04 - accuracy: 1.0000 - val_loss: 0.2010 - val_accuracy: 0.9444\n",
      "Epoch 36/50\n",
      "11/11 [==============================] - 4s 403ms/step - loss: 2.0412e-04 - accuracy: 1.0000 - val_loss: 0.2029 - val_accuracy: 0.9444\n",
      "Epoch 37/50\n",
      "11/11 [==============================] - 4s 400ms/step - loss: 1.9541e-04 - accuracy: 1.0000 - val_loss: 0.2013 - val_accuracy: 0.9444\n",
      "Epoch 38/50\n",
      "11/11 [==============================] - 4s 402ms/step - loss: 1.8386e-04 - accuracy: 1.0000 - val_loss: 0.2091 - val_accuracy: 0.9444\n",
      "Epoch 39/50\n",
      "11/11 [==============================] - 4s 403ms/step - loss: 1.7429e-04 - accuracy: 1.0000 - val_loss: 0.2115 - val_accuracy: 0.9444\n",
      "Epoch 40/50\n",
      "11/11 [==============================] - 4s 404ms/step - loss: 1.6810e-04 - accuracy: 1.0000 - val_loss: 0.2118 - val_accuracy: 0.9444\n",
      "Epoch 41/50\n",
      "11/11 [==============================] - 4s 405ms/step - loss: 1.5753e-04 - accuracy: 1.0000 - val_loss: 0.2006 - val_accuracy: 0.9444\n",
      "Epoch 42/50\n",
      "11/11 [==============================] - 5s 413ms/step - loss: 1.5295e-04 - accuracy: 1.0000 - val_loss: 0.2093 - val_accuracy: 0.9444\n",
      "Epoch 43/50\n",
      "11/11 [==============================] - 4s 401ms/step - loss: 1.4509e-04 - accuracy: 1.0000 - val_loss: 0.2134 - val_accuracy: 0.9444\n",
      "Epoch 44/50\n",
      "11/11 [==============================] - 4s 404ms/step - loss: 1.3762e-04 - accuracy: 1.0000 - val_loss: 0.2071 - val_accuracy: 0.9444\n",
      "Epoch 45/50\n",
      "11/11 [==============================] - 4s 403ms/step - loss: 1.3064e-04 - accuracy: 1.0000 - val_loss: 0.2154 - val_accuracy: 0.9444\n",
      "Epoch 46/50\n",
      "11/11 [==============================] - 4s 404ms/step - loss: 1.2427e-04 - accuracy: 1.0000 - val_loss: 0.2183 - val_accuracy: 0.9444\n",
      "Epoch 47/50\n",
      "11/11 [==============================] - 4s 405ms/step - loss: 1.2120e-04 - accuracy: 1.0000 - val_loss: 0.2234 - val_accuracy: 0.9444\n",
      "Epoch 48/50\n",
      "11/11 [==============================] - 4s 404ms/step - loss: 1.1489e-04 - accuracy: 1.0000 - val_loss: 0.2225 - val_accuracy: 0.9444\n",
      "Epoch 49/50\n",
      "11/11 [==============================] - 4s 404ms/step - loss: 1.0953e-04 - accuracy: 1.0000 - val_loss: 0.2181 - val_accuracy: 0.9444\n",
      "Epoch 50/50\n",
      "11/11 [==============================] - 4s 404ms/step - loss: 1.0757e-04 - accuracy: 1.0000 - val_loss: 0.2174 - val_accuracy: 0.9444\n"
     ]
    }
   ],
   "source": [
    "\n",
    "history = cnn.fit(X_train, y_train,\n",
    "                batch_size=25,\n",
    "                epochs=50,\n",
    "                validation_data=(X_test, y_test))\n",
    "\n"
   ]
  },
  {
   "cell_type": "code",
   "execution_count": 23,
   "id": "f6a2e1f2",
   "metadata": {},
   "outputs": [
    {
     "name": "stdout",
     "output_type": "stream",
     "text": [
      "3/3 - 0s - loss: 0.2174 - accuracy: 0.9444 - 272ms/epoch - 91ms/step\n"
     ]
    },
    {
     "data": {
      "image/png": "[encoded data removed]",
      "text/plain": [
       "<Figure size 640x480 with 1 Axes>"
      ]
     },
     "metadata": {},
     "output_type": "display_data"
    }
   ],
   "source": [
    "import matplotlib.pyplot as plt\n",
    "\n",
    "plt.plot(history.history['accuracy'], label='accuracy')\n",
    "plt.plot(history.history['val_accuracy'], label = 'val_accuracy')\n",
    "plt.xlabel('Epoch')\n",
    "plt.ylabel('Accuracy')\n",
    "plt.ylim([0.5, 1])\n",
    "plt.legend(loc='lower right')\n",
    "\n",
    "test_loss, test_acc = cnn.evaluate(X_test,  y_test, verbose=2)"
   ]
  },
  {
   "cell_type": "code",
   "execution_count": 24,
   "id": "9b752c54",
   "metadata": {},
   "outputs": [
    {
     "name": "stdout",
     "output_type": "stream",
     "text": [
      "0.9444444179534912\n"
     ]
    }
   ],
   "source": [
    "print(test_acc)"
   ]
  },
  {
   "cell_type": "code",
   "execution_count": null,
   "id": "54a5eaed",
   "metadata": {},
   "outputs": [],
   "source": []
  }
 ],
 "metadata": {
  "kernelspec": {
   "display_name": "Python 3 (ipykernel)",
   "language": "python",
   "name": "python3"
  },
  "language_info": {
   "codemirror_mode": {
    "name": "ipython",
    "version": 3
   },
   "file_extension": ".py",
   "mimetype": "text/x-python",
   "name": "python",
   "nbconvert_exporter": "python",
   "pygments_lexer": "ipython3",
   "version": "3.10.6"
  }
 },
 "nbformat": 4,
 "nbformat_minor": 5
}
